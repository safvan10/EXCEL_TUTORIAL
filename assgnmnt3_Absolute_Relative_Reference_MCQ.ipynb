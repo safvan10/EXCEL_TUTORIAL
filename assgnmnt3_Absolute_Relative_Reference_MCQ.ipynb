{
  "nbformat": 4,
  "nbformat_minor": 0,
  "metadata": {
    "colab": {
      "provenance": []
    },
    "kernelspec": {
      "name": "python3",
      "display_name": "Python 3"
    },
    "language_info": {
      "name": "python"
    }
  },
  "cells": [
    {
      "cell_type": "markdown",
      "source": [
        "**Question 1:**\n",
        "**Which of the following is an example of an absolute reference in Excel?**\n",
        "\n",
        "A) A1\n",
        "\n",
        "B) $A1\n",
        "\n",
        "C) A$1\n",
        "\n",
        "D) $A$1\n"
      ],
      "metadata": {
        "id": "ACLfcGN2GqbN"
      }
    },
    {
      "cell_type": "code",
      "source": [
        "#answer is D: $A$1"
      ],
      "metadata": {
        "id": "2FyzeTtOG6X6"
      },
      "execution_count": 1,
      "outputs": []
    },
    {
      "cell_type": "markdown",
      "source": [
        "Question 2:\n",
        "What happens when you use relative references (e.g., B2) in a formula and\n",
        "then copy the formula to another cell?\n",
        "\n",
        "A) The reference remains unchanged.\n",
        "\n",
        "B) The reference changes based on the position of the formula.\n",
        "\n",
        "C) The formula produces an error.\n",
        "\n",
        "D) The reference is fixed to the original cell."
      ],
      "metadata": {
        "id": "jh8-YGF0HVVW"
      }
    },
    {
      "cell_type": "code",
      "source": [
        "#answer is B) The reference changes based on the position of the formula."
      ],
      "metadata": {
        "id": "Eu4ZhahhHnrK"
      },
      "execution_count": null,
      "outputs": []
    },
    {
      "cell_type": "markdown",
      "source": [
        "Question 3:\n",
        "Which of the following formulas uses a mixed reference where the row is\n",
        "absolute, but the column is relative?\n",
        "\n",
        "A) $A1\n",
        "\n",
        "B) A$1\n",
        "\n",
        "C) A1\n",
        "\n",
        "D) $A$1"
      ],
      "metadata": {
        "id": "-RoGcxCBH2vw"
      }
    },
    {
      "cell_type": "code",
      "source": [
        "#Answer is A) $A1"
      ],
      "metadata": {
        "id": "TrwG_PezIJZK"
      },
      "execution_count": null,
      "outputs": []
    },
    {
      "cell_type": "markdown",
      "source": [
        "Question 4:\n",
        "\n",
        "You have a tax rate in cell F1 (e.g., 10%). You are calculating the total price for\n",
        "a list of items. Which formula should you use in cell E2 to multiply the price in\n",
        "D2 by the tax rate in F1, while keeping the reference to the tax rate fixed?\n",
        "\n",
        "A) =D2*F1\n",
        "\n",
        "B) =D2*$F1\n",
        "\n",
        "C) =D2*F$1\n",
        "\n",
        "D) =D2*$F$1"
      ],
      "metadata": {
        "id": "WJ-3DowDIVBx"
      }
    },
    {
      "cell_type": "code",
      "source": [
        "#answer is D) =D2*$F$1"
      ],
      "metadata": {
        "id": "gS8XeFk8Ijpy"
      },
      "execution_count": null,
      "outputs": []
    },
    {
      "cell_type": "markdown",
      "source": [
        "Question 5:\n",
        "Which of the following formulas will keep the column fixed but allow the row\n",
        "to change when you copy it across cells?\n",
        "\n",
        "A) $B$2\n",
        "\n",
        "B) B$2\n",
        "\n",
        "C) $B2\n",
        "\n",
        "D) B2"
      ],
      "metadata": {
        "id": "2pD4go1BIt25"
      }
    },
    {
      "cell_type": "code",
      "source": [
        "#answer is C) $B2"
      ],
      "metadata": {
        "id": "4tyhz3KeI9PK"
      },
      "execution_count": null,
      "outputs": []
    },
    {
      "cell_type": "markdown",
      "source": [
        "Question 6:\n",
        "If you copy the formula =A1+B1 from cell C1 to cell C2, what will the formula\n",
        "in C2 be?\n",
        "\n",
        "A) =A1+B1\n",
        "\n",
        "B) =A2+B2\n",
        "\n",
        "C) =A1+B2\n",
        "\n",
        "D) =A2+B1"
      ],
      "metadata": {
        "id": "AfAqHK_WJCTC"
      }
    },
    {
      "cell_type": "code",
      "source": [
        "#answer is B) =A2+B2"
      ],
      "metadata": {
        "id": "54rHMMttJQ2x"
      },
      "execution_count": null,
      "outputs": []
    },
    {
      "cell_type": "markdown",
      "source": [
        "Question 7:\n",
        "Which of the following formulas uses an absolute reference to cell B3?\n",
        "\n",
        "A) =B3\n",
        "\n",
        "B) =$B$3\n",
        "\n",
        "C) B$3\n",
        "\n",
        "D) B3"
      ],
      "metadata": {
        "id": "T1Lz3sesJWZh"
      }
    },
    {
      "cell_type": "code",
      "source": [
        "#answer is B) =$B$3"
      ],
      "metadata": {
        "id": "HF3UyZfZJdwR"
      },
      "execution_count": null,
      "outputs": []
    },
    {
      "cell_type": "markdown",
      "source": [
        "Question 8:\n",
        "\n",
        "In the formula =C5*$D$3, what type of reference is $D$3?\n",
        "\n",
        "A) Mixed reference\n",
        "\n",
        "B) Absolute reference\n",
        "\n",
        "C) Relative reference\n",
        "\n",
        "D) Both relative and absolute reference"
      ],
      "metadata": {
        "id": "_mQOFVI6JmEC"
      }
    },
    {
      "cell_type": "code",
      "source": [
        "#answer is B) Absolute reference"
      ],
      "metadata": {
        "id": "sgu4QQ7yJsiZ"
      },
      "execution_count": null,
      "outputs": []
    },
    {
      "cell_type": "markdown",
      "source": [
        "Question 9:\n",
        "If you have the formula =B2*$C2 in cell D2, and you drag it across to D3, what\n",
        "will the new formula in D3 be?\n",
        "\n",
        "A) =B2*$C2\n",
        "\n",
        "B) =B3*$C2\n",
        "\n",
        "C) =B3*$C3\n",
        "\n",
        "D) =B2*$C3"
      ],
      "metadata": {
        "id": "4SKOPXnsJxtF"
      }
    },
    {
      "cell_type": "code",
      "source": [
        "#aswer is B) =B3*$C2"
      ],
      "metadata": {
        "id": "Vwtah7AwJ4CB"
      },
      "execution_count": null,
      "outputs": []
    },
    {
      "cell_type": "markdown",
      "source": [
        "Question 10:\n",
        "You are working with the formula =A$1*B2 in cell C2. When you copy this\n",
        "formula from C2 to C3, what will the new formula in C3 be?\n",
        "\n",
        "A) =A1*B3\n",
        "\n",
        "B) =A$1*B3\n",
        "\n",
        "C) =A$1*B2\n",
        "\n",
        "D) =A$1*$B2"
      ],
      "metadata": {
        "id": "8YsPXfvyJ-h-"
      }
    },
    {
      "cell_type": "code",
      "source": [
        "#answer is A) =A1*B3"
      ],
      "metadata": {
        "id": "w81scWDbKHKx"
      },
      "execution_count": null,
      "outputs": []
    }
  ]
}